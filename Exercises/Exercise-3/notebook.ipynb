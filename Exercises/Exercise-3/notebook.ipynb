{
 "cells": [
  {
   "cell_type": "code",
   "execution_count": null,
   "metadata": {},
   "outputs": [],
   "source": [
    "import boto3\n",
    "import gzip"
   ]
  },
  {
   "cell_type": "code",
   "execution_count": null,
   "metadata": {},
   "outputs": [],
   "source": [
    "client = boto3.client(\n",
    "    's3',\n",
    "    aws_access_key_id='XXXXXXXXXXXXXXXXXXXX',\n",
    "    aws_secret_access_key='XXXXXXXXXXXXXXXXXXXXXXXXXXXXXXXXX'\n",
    ")"
   ]
  },
  {
   "cell_type": "code",
   "execution_count": null,
   "metadata": {},
   "outputs": [],
   "source": [
    "client.download_file('commoncrawl', 'crawl-data/CC-MAIN-2022-05/wet.paths.gz', 'file.gz')\n",
    "#session.copy_object()"
   ]
  },
  {
   "cell_type": "code",
   "execution_count": null,
   "metadata": {},
   "outputs": [],
   "source": [
    "with gzip.open('file.gz', 'rb') as f:\n",
    "    file_content = f.read()\n",
    "    \n",
    "    first_link = str((file_content.split(b\"\\n\")[0]))\n",
    "    first_link = first_link[2:-1]\n",
    "    print(first_link)"
   ]
  },
  {
   "cell_type": "code",
   "execution_count": null,
   "metadata": {},
   "outputs": [],
   "source": [
    "client.download_file('commoncrawl', first_link, 'fileFromLink.gz')\n"
   ]
  },
  {
   "cell_type": "code",
   "execution_count": null,
   "metadata": {},
   "outputs": [],
   "source": [
    "with gzip.open('fileFromLink.gz', 'rb') as f2:\n",
    "    lines = f2.read()\n",
    "    for line in lines:\n",
    "        print(line)"
   ]
  }
 ],
 "metadata": {
  "interpreter": {
   "hash": "65f38d19bda9221394926943c12eaca0af321c3415ad64c343d44f8f20e096d7"
  },
  "kernelspec": {
   "display_name": "Python 3.10.9 64-bit (windows store)",
   "language": "python",
   "name": "python3"
  },
  "language_info": {
   "codemirror_mode": {
    "name": "ipython",
    "version": 3
   },
   "file_extension": ".py",
   "mimetype": "text/x-python",
   "name": "python",
   "nbconvert_exporter": "python",
   "pygments_lexer": "ipython3",
   "version": "3.10.9"
  },
  "orig_nbformat": 4
 },
 "nbformat": 4,
 "nbformat_minor": 2
}
