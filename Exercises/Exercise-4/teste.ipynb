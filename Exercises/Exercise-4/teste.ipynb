{
 "cells": [
  {
   "cell_type": "code",
   "execution_count": null,
   "metadata": {},
   "outputs": [],
   "source": [
    "pip install flatten_json"
   ]
  },
  {
   "cell_type": "code",
   "execution_count": 1,
   "metadata": {},
   "outputs": [],
   "source": [
    "import os\n",
    "import json"
   ]
  },
  {
   "cell_type": "code",
   "execution_count": 3,
   "metadata": {},
   "outputs": [],
   "source": [
    "rootdir = 'C:/Users/matheussanchez/Documents/projetosPessoais/DataEngeneerExercise/data-engineering-practice/Exercises/Exercise-4/data'"
   ]
  },
  {
   "cell_type": "code",
   "execution_count": null,
   "metadata": {},
   "outputs": [],
   "source": [
    "for subdir, dirs, files in os.walk(rootdir):\n",
    "    for file in files:\n",
    "        extension = (file.split('.')[1])\n",
    "        if extension == 'json':\n",
    "            link = subdir.replace('\\\\', '/')\n",
    "            link = link + '/' + file\n",
    "            with open(link) as json_file:\n",
    "                with open(file[0:-4] + 'csv', 'w') as fileToWrite:\n",
    "                    json_content = json_file.read()\n",
    "                    data = json.loads(json_content)\n",
    "                    dataFlattened = flatten(data)\n",
    "                    fileToWrite.write(str(dataFlattened))\n",
    "                    fileToWrite.close()\n",
    "                    "
   ]
  },
  {
   "cell_type": "code",
   "execution_count": 4,
   "metadata": {},
   "outputs": [],
   "source": [
    "for subdir, dirs, files in os.walk(rootdir):\n",
    "    for file in files:\n",
    "        extension = (file.split('.')[1])\n",
    "        if extension == 'json':\n",
    "            link = subdir.replace('\\\\', '/')\n",
    "            link = link + '/' + file\n",
    "            with open(link) as json_file:\n",
    "                with open('2' + file[0:-4] + 'csv', 'w') as fileToWrite:\n",
    "                    json_content = json_file.read()\n",
    "                    data = json.loads(json_content)\n",
    "                    data['geolocationType'] = data['geolocation']['type']\n",
    "                    data['geolocationCoordinates'] = data['geolocation']['coordinates']\n",
    "                    data.pop('geolocation')\n",
    "                    fileToWrite.write(str(data))\n",
    "                    fileToWrite.close()\n"
   ]
  }
 ],
 "metadata": {
  "interpreter": {
   "hash": "65f38d19bda9221394926943c12eaca0af321c3415ad64c343d44f8f20e096d7"
  },
  "kernelspec": {
   "display_name": "Python 3.10.9 64-bit (windows store)",
   "language": "python",
   "name": "python3"
  },
  "language_info": {
   "codemirror_mode": {
    "name": "ipython",
    "version": 3
   },
   "file_extension": ".py",
   "mimetype": "text/x-python",
   "name": "python",
   "nbconvert_exporter": "python",
   "pygments_lexer": "ipython3",
   "version": "3.10.9"
  },
  "orig_nbformat": 4
 },
 "nbformat": 4,
 "nbformat_minor": 2
}
