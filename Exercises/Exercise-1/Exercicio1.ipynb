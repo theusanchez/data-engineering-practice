{
 "cells": [
  {
   "cell_type": "code",
   "execution_count": 4,
   "metadata": {},
   "outputs": [],
   "source": [
    "# Importando bibliotecas que serão utilizadas.\n",
    "import requests\n",
    "import os\n",
    "import zipfile"
   ]
  },
  {
   "cell_type": "code",
   "execution_count": 6,
   "metadata": {},
   "outputs": [],
   "source": [
    "# Criando váriaveis que serão utilizadas.\n",
    "download_uris = [\n",
    "    'https://divvy-tripdata.s3.amazonaws.com/Divvy_Trips_2018_Q4.zip',\n",
    "    'https://divvy-tripdata.s3.amazonaws.com/Divvy_Trips_2019_Q1.zip',\n",
    "    'https://divvy-tripdata.s3.amazonaws.com/Divvy_Trips_2019_Q2.zip',\n",
    "    'https://divvy-tripdata.s3.amazonaws.com/Divvy_Trips_2019_Q3.zip',\n",
    "    'https://divvy-tripdata.s3.amazonaws.com/Divvy_Trips_2019_Q4.zip',\n",
    "    'https://divvy-tripdata.s3.amazonaws.com/Divvy_Trips_2020_Q1.zip',\n",
    "    'https://divvy-tripdata.s3.amazonaws.com/Divvy_Trips_2220_Q1.zip'\n",
    "]\n",
    "\n",
    "file_names = []"
   ]
  },
  {
   "cell_type": "code",
   "execution_count": 91,
   "metadata": {},
   "outputs": [
    {
     "name": "stdout",
     "output_type": "stream",
     "text": [
      "c:\\Users\\matheussanchez\\Documents\\projetosPessoais\\DataEngeneerExercise\\data-engineering-practice\\Exercises\\Exercise-1\\Downloaded_Files\n",
      "['Divvy_Trips_2018_Q4.zip', 'Divvy_Trips_2019_Q1.zip', 'Divvy_Trips_2019_Q2.zip', 'Divvy_Trips_2019_Q3.zip', 'Divvy_Trips_2019_Q4.zip', 'Divvy_Trips_2020_Q1.zip', 'Divvy_Trips_2220_Q1.zip']\n"
     ]
    }
   ],
   "source": [
    "# Célula usada para lidar com os diretórios da máquina.\n",
    "print(os.getcwd()) # Comando para verificar qual é o diretório que está sendo utilizado no momento\n",
    "\n",
    "# os.mkdir('Downloaded_Files') # Comando usado para criar um novo diretório.\n",
    "\n",
    "print(os.listdir()) # Comando usado para listar diretórios\n",
    "\n",
    "# os.chdir('Downloaded_Files') # Comando utilizado para mudar de diretório."
   ]
  },
  {
   "cell_type": "code",
   "execution_count": 7,
   "metadata": {},
   "outputs": [
    {
     "name": "stdout",
     "output_type": "stream",
     "text": [
      "['Divvy_Trips_2018_Q4.zip', 'Divvy_Trips_2019_Q1.zip', 'Divvy_Trips_2019_Q2.zip', 'Divvy_Trips_2019_Q3.zip', 'Divvy_Trips_2019_Q4.zip', 'Divvy_Trips_2020_Q1.zip', 'Divvy_Trips_2220_Q1.zip']\n"
     ]
    }
   ],
   "source": [
    "# Célula usada para salvar os nomes dos arquivos através da URL.\n",
    "for x in download_uris:\n",
    "    file_names.append(x.split('/')[-1])\n",
    "print(file_names)"
   ]
  },
  {
   "cell_type": "code",
   "execution_count": 9,
   "metadata": {},
   "outputs": [],
   "source": [
    "# Baixar os arquivos\n",
    "\n",
    "for x in download_uris:\n",
    "    response = requests.get(x)\n",
    "    nomearquivo = x.split('/')[-1]\n",
    "    open(nomearquivo, 'wb').write(response.content)"
   ]
  },
  {
   "cell_type": "code",
   "execution_count": 97,
   "metadata": {},
   "outputs": [
    {
     "name": "stdout",
     "output_type": "stream",
     "text": [
      "['Divvy_Trips_2018_Q4.zip', 'Divvy_Trips_2019_Q1.zip', 'Divvy_Trips_2019_Q2.zip', 'Divvy_Trips_2019_Q3.zip', 'Divvy_Trips_2019_Q4.zip', 'Divvy_Trips_2020_Q1.zip', 'Divvy_Trips_2220_Q1.zip']\n",
      "File is not a zip file\n"
     ]
    }
   ],
   "source": [
    "#Descompactando arquivo:\n",
    "\n",
    "print(file_names)\n",
    "for x in file_names:\n",
    "    try:\n",
    "        with zipfile.ZipFile(x) as zip_ref:\n",
    "            zip_ref.extractall()\n",
    "    except Exception as e:\n",
    "        print(e)\n",
    "        pass"
   ]
  }
 ],
 "metadata": {
  "interpreter": {
   "hash": "859a683d4e8412588292e25989aab8daa9a08afdafec932003017a0805e15b57"
  },
  "kernelspec": {
   "display_name": "Python 3.9.12 ('base')",
   "language": "python",
   "name": "python3"
  },
  "language_info": {
   "codemirror_mode": {
    "name": "ipython",
    "version": 3
   },
   "file_extension": ".py",
   "mimetype": "text/x-python",
   "name": "python",
   "nbconvert_exporter": "python",
   "pygments_lexer": "ipython3",
   "version": "3.10.9"
  },
  "orig_nbformat": 4
 },
 "nbformat": 4,
 "nbformat_minor": 2
}
